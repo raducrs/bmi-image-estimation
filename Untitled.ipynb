{
 "cells": [
  {
   "cell_type": "markdown",
   "metadata": {},
   "source": [
    "### Explore metadata IMDB"
   ]
  },
  {
   "cell_type": "code",
   "execution_count": 1,
   "metadata": {},
   "outputs": [],
   "source": [
    "from scipy.io import loadmat\n",
    "\n",
    "path_imdb_metadata = 'dataset/imdb/imdb.mat'\n",
    "imdb_metadata = loadmat(path_imdb_metadata)"
   ]
  },
  {
   "cell_type": "code",
   "execution_count": 2,
   "metadata": {},
   "outputs": [
    {
     "name": "stdout",
     "output_type": "stream",
     "text": [
      "{'__header__': b'MATLAB 5.0 MAT-file, Platform: GLNXA64, Created on: Sun Jan 17 11:30:27 2016', '__version__': '1.0', '__globals__': [], 'imdb': array([[(array([[693726, 693726, 693726, ..., 726831, 726831, 726831]], dtype=int32), array([[1968, 1970, 1968, ..., 2011, 2011, 2011]], dtype=uint16), array([[array(['01/nm0000001_rm124825600_1899-5-10_1968.jpg'], dtype='<U43'),\n",
      "        array(['01/nm0000001_rm3343756032_1899-5-10_1970.jpg'], dtype='<U44'),\n",
      "        array(['01/nm0000001_rm577153792_1899-5-10_1968.jpg'], dtype='<U43'),\n",
      "        ...,\n",
      "        array(['08/nm3994408_rm926592512_1989-12-29_2011.jpg'], dtype='<U44'),\n",
      "        array(['08/nm3994408_rm943369728_1989-12-29_2011.jpg'], dtype='<U44'),\n",
      "        array(['08/nm3994408_rm976924160_1989-12-29_2011.jpg'], dtype='<U44')]],\n",
      "      dtype=object), array([[1., 1., 1., ..., 0., 0., 0.]]), array([[array(['Fred Astaire'], dtype='<U12'),\n",
      "        array(['Fred Astaire'], dtype='<U12'),\n",
      "        array(['Fred Astaire'], dtype='<U12'), ...,\n",
      "        array(['Jane Levy'], dtype='<U9'),\n",
      "        array(['Jane Levy'], dtype='<U9'),\n",
      "        array(['Jane Levy'], dtype='<U9')]], dtype=object), array([[array([[1072.926,  161.838, 1214.784,  303.696]]),\n",
      "        array([[477.184, 100.352, 622.592, 245.76 ]]),\n",
      "        array([[114.96964309, 114.96964309, 451.68657236, 451.68657236]]),\n",
      "        ..., array([[  1,   1, 453, 640]], dtype=uint16),\n",
      "        array([[144.75225472, 126.76472288, 305.78804127, 287.80050943]]),\n",
      "        array([[457.524,  41.748, 518.016, 102.24 ]])]], dtype=object), array([[1.45969291, 2.5431976 , 3.45557949, ...,       -inf, 4.45072452,\n",
      "        2.13350269]]), array([[1.11897336, 1.85200773, 2.98566022, ...,        nan,        nan,\n",
      "               nan]]), array([[array([\"'Lee' George Quinones\"], dtype='<U21'),\n",
      "        array([\"'Weird Al' Yankovic\"], dtype='<U19'),\n",
      "        array(['2 Chainz'], dtype='<U8'), ...,\n",
      "        array(['Éric Caravaca'], dtype='<U13'),\n",
      "        array(['Ólafur Darri Ólafsson'], dtype='<U21'),\n",
      "        array(['Óscar Jaenada'], dtype='<U13')]], dtype=object), array([[6488, 6488, 6488, ..., 8410, 8410, 8410]], dtype=uint16))]],\n",
      "      dtype=[('dob', 'O'), ('photo_taken', 'O'), ('full_path', 'O'), ('gender', 'O'), ('name', 'O'), ('face_location', 'O'), ('face_score', 'O'), ('second_face_score', 'O'), ('celeb_names', 'O'), ('celeb_id', 'O')])}\n"
     ]
    }
   ],
   "source": [
    "print(imdb_metadata)"
   ]
  },
  {
   "cell_type": "code",
   "execution_count": 28,
   "metadata": {},
   "outputs": [
    {
     "data": {
      "text/plain": [
       "460723"
      ]
     },
     "execution_count": 28,
     "metadata": {},
     "output_type": "execute_result"
    }
   ],
   "source": [
    "len(imdb_metadata['imdb'][0][0][3][0])"
   ]
  },
  {
   "cell_type": "code",
   "execution_count": 23,
   "metadata": {},
   "outputs": [
    {
     "name": "stdout",
     "output_type": "stream",
     "text": [
      "[[693726 693726 693726 ... 726831 726831 726831]]\n",
      "\n",
      "[[1968 1970 1968 ... 2011 2011 2011]]\n",
      "\n",
      "[[array(['01/nm0000001_rm124825600_1899-5-10_1968.jpg'], dtype='<U43')\n",
      "  array(['01/nm0000001_rm3343756032_1899-5-10_1970.jpg'], dtype='<U44')\n",
      "  array(['01/nm0000001_rm577153792_1899-5-10_1968.jpg'], dtype='<U43')\n",
      "  ...\n",
      "  array(['08/nm3994408_rm926592512_1989-12-29_2011.jpg'], dtype='<U44')\n",
      "  array(['08/nm3994408_rm943369728_1989-12-29_2011.jpg'], dtype='<U44')\n",
      "  array(['08/nm3994408_rm976924160_1989-12-29_2011.jpg'], dtype='<U44')]]\n",
      "\n",
      "[[1. 1. 1. ... 0. 0. 0.]]\n",
      "\n",
      "[[array(['Fred Astaire'], dtype='<U12')\n",
      "  array(['Fred Astaire'], dtype='<U12')\n",
      "  array(['Fred Astaire'], dtype='<U12') ...\n",
      "  array(['Jane Levy'], dtype='<U9') array(['Jane Levy'], dtype='<U9')\n",
      "  array(['Jane Levy'], dtype='<U9')]]\n",
      "\n",
      "[[array([[1072.926,  161.838, 1214.784,  303.696]])\n",
      "  array([[477.184, 100.352, 622.592, 245.76 ]])\n",
      "  array([[114.96964309, 114.96964309, 451.68657236, 451.68657236]]) ...\n",
      "  array([[  1,   1, 453, 640]], dtype=uint16)\n",
      "  array([[144.75225472, 126.76472288, 305.78804127, 287.80050943]])\n",
      "  array([[457.524,  41.748, 518.016, 102.24 ]])]]\n",
      "\n",
      "[[1.45969291 2.5431976  3.45557949 ...       -inf 4.45072452 2.13350269]]\n",
      "\n",
      "[[1.11897336 1.85200773 2.98566022 ...        nan        nan        nan]]\n",
      "\n",
      "[[array([\"'Lee' George Quinones\"], dtype='<U21')\n",
      "  array([\"'Weird Al' Yankovic\"], dtype='<U19')\n",
      "  array(['2 Chainz'], dtype='<U8') ...\n",
      "  array(['Éric Caravaca'], dtype='<U13')\n",
      "  array(['Ólafur Darri Ólafsson'], dtype='<U21')\n",
      "  array(['Óscar Jaenada'], dtype='<U13')]]\n",
      "\n",
      "[[6488 6488 6488 ... 8410 8410 8410]]\n",
      "\n"
     ]
    }
   ],
   "source": [
    "for v in imdb_metadata['imdb'][0][0]:\n",
    "    print(v)\n",
    "    print()"
   ]
  },
  {
   "cell_type": "code",
   "execution_count": 45,
   "metadata": {},
   "outputs": [
    {
     "name": "stdout",
     "output_type": "stream",
     "text": [
      "703118\n",
      "1967\n",
      "['56/nm0000056_rm2751629056_1925-1-26_1967.jpg']\n",
      "1.0\n",
      "['Paul Newman']\n",
      "[[ 774.68520205  177.6473641  1088.71605743  491.67821949]]\n",
      "2.7416878750023956\n",
      "nan\n",
      "['Amy Irving']\n",
      "15157\n"
     ]
    }
   ],
   "source": [
    "no_attributes = len(imdb_metadata['imdb'][0][0])\n",
    "dob_idx = 0\n",
    "photo_taken_idx = 1\n",
    "full_path_idx = 2\n",
    "gender_idx = 3\n",
    "name_idx = 4\n",
    "face_location_idx = 5\n",
    "face_score_idx = 6\n",
    "second_face_score_idx = 7\n",
    "celeb_names_idx = 8\n",
    "celeb_id_idx = 9\n",
    "\n",
    "entry_idx = 842\n",
    "for atr in range(0,no_attributes):\n",
    "    print(imdb_metadata['imdb'][0][0][atr][0][entry_idx])"
   ]
  },
  {
   "cell_type": "code",
   "execution_count": 47,
   "metadata": {},
   "outputs": [
    {
     "data": {
      "text/plain": [
       "array(['Paul Newman'], dtype='<U11')"
      ]
     },
     "execution_count": 47,
     "metadata": {},
     "output_type": "execute_result"
    }
   ],
   "source": [
    "imdb_metadata['imdb'][0][0][celeb_names_idx][0][15156]"
   ]
  },
  {
   "cell_type": "code",
   "execution_count": 71,
   "metadata": {},
   "outputs": [
    {
     "name": "stdout",
     "output_type": "stream",
     "text": [
      "['Aaron Paul']\n",
      "['Adam Levine']\n",
      "['Adriana Lima']\n",
      "['Alexandra Daddario']\n",
      "['Alicia Keys']\n",
      "['Amanda Bynes']\n",
      "['Amanda Seyfried']\n",
      "['Amber Riley']\n",
      "['Anna Kendrick']\n",
      "['AnnaSophia Robb']\n",
      "['Ariana Grande']\n",
      "['Avril Lavigne']\n",
      "['Behati Prinsloo']\n",
      "['Bella Thorne']\n",
      "['Benji Madden']\n",
      "['Beth Behrs']\n",
      "['Bill Hader']\n",
      "['Billie Piper']\n",
      "['Blake Shelton']\n",
      "['Bob Hoskins']\n",
      "['Bob Odenkirk']\n",
      "['Bridgit Mendler']\n",
      "['Brooklyn Decker']\n",
      "['Caleb Followill']\n",
      "['Cam Gigandet']\n",
      "['Cameron Diaz']\n",
      "['Candice Swanepoel']\n",
      "['Carey Lowell']\n",
      "['Carrie Ann Inaba']\n",
      "['Carrie Underwood']\n",
      "['Cary Grant']\n",
      "['Caterina Murino']\n",
      "['Channing Tatum']\n",
      "['Cher Lloyd']\n",
      "['Chris Brown']\n",
      "['Chris Evans']\n",
      "['Chris Hemsworth']\n",
      "['Christian Bale']\n",
      "['Christina Aguilera']\n",
      "['Ciara Bravo']\n",
      "['Daddy Yankee']\n",
      "['Dan Stevens']\n",
      "['Dane DeHaan']\n",
      "['Danica McKellar']\n",
      "['Danica Patrick']\n",
      "['Daniella Monet']\n",
      "['Debby Ryan']\n",
      "['Demi Lovato']\n",
      "['Dr. Dre']\n",
      "['Dwayne Johnson']\n",
      "['Elvis Presley']\n",
      "['Emily VanCamp']\n",
      "['Eminem']\n",
      "['Emma Stone']\n",
      "['Eva Longoria']\n",
      "['Eva Mendes']\n",
      "['Gerard Butler']\n",
      "['Hayden Panettiere']\n",
      "['Henry Cavill']\n",
      "['Hilary Duff']\n",
      "['Hugh Jackman']\n",
      "['Ian Somerhalder']\n",
      "['Ice Cube']\n",
      "['Idina Menzel']\n",
      "['Jaden Smith']\n",
      "['James Franco']\n",
      "['Jamie Dornan']\n",
      "['Jamie Foxx']\n",
      "['Jason Aldean']\n",
      "['Jason Statham']\n",
      "['Jay Z']\n",
      "['Jennette McCurdy']\n",
      "['Jennifer Aniston']\n",
      "['Jennifer Garner']\n",
      "['Jennifer Lawrence']\n",
      "['Jennifer Lopez']\n",
      "['Jennifer Love Hewitt']\n",
      "['Jeremy Renner']\n",
      "['Jillian Michaels']\n",
      "['John Cena']\n",
      "['John Legend']\n",
      "['Johnny Depp']\n",
      "['Jordin Sparks']\n",
      "['Joseph Gordon-Levitt']\n",
      "['Josh Hutcherson']\n",
      "['Julianne Hough']\n",
      "['Justin Bieber']\n",
      "['Justin Timberlake']\n",
      "['Kaley Cuoco']\n",
      "['Kanye West']\n",
      "['Kareena Kapoor']\n",
      "['Karlie Kloss']\n",
      "['Kate Bosworth']\n",
      "['Kate Hudson']\n",
      "['Kate Upton']\n",
      "['Kate Winslet']\n",
      "['Katrina Kaif']\n",
      "['Katy Perry']\n",
      "['Keira Knightley']\n",
      "['Kelly Brook']\n",
      "['Kendall Jenner']\n",
      "['Kesha']\n",
      "['Kevin Hart']\n",
      "['Kourtney Kardashian']\n",
      "['Kristen Bell']\n",
      "['Kristen Stewart']\n",
      "['Kristin Chenoweth']\n",
      "['Kylie Jenner']\n",
      "['Lady Gaga']\n",
      "['Laura Prepon']\n",
      "['Lea Michele']\n",
      "['Leighton Meester']\n",
      "['Lena Dunham']\n",
      "['Lenny Kravitz']\n",
      "['Leonardo DiCaprio']\n",
      "['Liam Hemsworth']\n",
      "['Liam Payne']\n",
      "[\"Lil' Wayne\"]\n",
      "['Lily Collins']\n",
      "['Lindsey Vonn']\n",
      "['Logan Henderson']\n",
      "['Louis Tomlinson']\n",
      "['Lucy Hale']\n",
      "['Madison Riley']\n",
      "['Madonna']\n",
      "['Maria Sharapova']\n",
      "['Mariah Carey']\n",
      "['Mark Wahlberg']\n",
      "['Megan Fox']\n",
      "['Michael Jordan']\n",
      "['Michelle Obama']\n",
      "['Mila Kunis']\n",
      "['Miley Cyrus']\n",
      "['Minka Kelly']\n",
      "['Miranda Cosgrove']\n",
      "['Miranda Kerr']\n",
      "['Miranda Lambert']\n",
      "['Natalie Portman']\n",
      "['Neil Patrick Harris']\n",
      "['Nick Jonas']\n",
      "['Nicki Minaj']\n",
      "['Nina Dobrev']\n",
      "['Orlando Bloom']\n",
      "['Paris Hilton']\n",
      "['Peyton List']\n",
      "['Rachel Bilson']\n",
      "['Raini Rodriguez']\n",
      "['Reese Witherspoon']\n",
      "['Rihanna']\n",
      "['Rob Kardashian']\n",
      "['Robert Pattinson']\n",
      "['Sarah Hyland']\n",
      "['Scarlett Johansson']\n",
      "['Scott Disick']\n",
      "['Selena Gomez']\n",
      "['Serena Williams']\n",
      "['Shailene Woodley']\n",
      "['Shakira']\n",
      "['Sonakshi Sinha']\n",
      "['Taylor Lautner']\n",
      "['Taylor Momsen']\n",
      "['Taylor Schilling']\n",
      "['Taylor Swift']\n",
      "['Tika Sumpter']\n",
      "['Tom Cruise']\n",
      "['Tupac Shakur']\n",
      "['Vanessa Hudgens']\n",
      "['Victoria Justice']\n",
      "['Vin Diesel']\n",
      "['Wiz Khalifa']\n",
      "['Zac Efron']\n",
      "['Zayn Malik']\n",
      "['Zendaya']\n",
      "['Zooey Deschanel']\n"
     ]
    }
   ],
   "source": [
    "import requests\n",
    "import time\n",
    "\n",
    "all_names_imdb = imdb_metadata['imdb'][0][0][celeb_names_idx][0]\n",
    "\n",
    "def toHyphenName(name):\n",
    "    name = name.lower()\n",
    "    parts = name.split()\n",
    "    return '-'.join(parts)\n",
    "\n",
    "def build_url_1(hyphen_name):\n",
    "    return 'http://heightandweights.com/' + hyphen_name + '/'\n",
    "\n",
    "def build_url_2(hyphen_name):\n",
    "    return 'https://bodyheightweight.com/' + hyphen_name + '-body-measurements/'\n",
    "\n",
    "list_results = []\n",
    "\n",
    "for celeb_name in all_names_imdb:\n",
    "    hyphen_name = toHyphenName(celeb_name[0])\n",
    "    r1 = requests.head(build_url_1(hyphen_name))\n",
    "    r2 = requests.head(build_url_2(hyphen_name))\n",
    "    if r1.status_code == 200 or r2.status_code == 200 :\n",
    "        list_results.append(celeb_name)\n",
    "        print(celeb_name)\n",
    "    \n",
    "    \n",
    "\n"
   ]
  },
  {
   "cell_type": "code",
   "execution_count": 72,
   "metadata": {},
   "outputs": [
    {
     "data": {
      "text/plain": [
       "<Response [200]>"
      ]
     },
     "execution_count": 72,
     "metadata": {},
     "output_type": "execute_result"
    }
   ],
   "source": [
    "\n",
    "r = requests.head(build_url_1('maria-sharapova'))\n",
    "r\n"
   ]
  },
  {
   "cell_type": "code",
   "execution_count": 63,
   "metadata": {},
   "outputs": [
    {
     "data": {
      "text/plain": [
       "[]"
      ]
     },
     "execution_count": 63,
     "metadata": {},
     "output_type": "execute_result"
    }
   ],
   "source": [
    "list_results"
   ]
  },
  {
   "cell_type": "code",
   "execution_count": null,
   "metadata": {},
   "outputs": [],
   "source": []
  }
 ],
 "metadata": {
  "kernelspec": {
   "display_name": "BMI Estimation",
   "language": "python",
   "name": "bmiestimation"
  },
  "language_info": {
   "codemirror_mode": {
    "name": "ipython",
    "version": 3
   },
   "file_extension": ".py",
   "mimetype": "text/x-python",
   "name": "python",
   "nbconvert_exporter": "python",
   "pygments_lexer": "ipython3",
   "version": "3.6.4"
  }
 },
 "nbformat": 4,
 "nbformat_minor": 2
}
